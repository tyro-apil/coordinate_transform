{
 "cells": [
  {
   "cell_type": "markdown",
   "metadata": {},
   "source": [
    "## Transform point in coordinate frame B to point in coordinate frame A"
   ]
  },
  {
   "cell_type": "code",
   "execution_count": 1,
   "metadata": {},
   "outputs": [],
   "source": [
    "import numpy as np\n",
    "import os"
   ]
  },
  {
   "cell_type": "code",
   "execution_count": 2,
   "metadata": {},
   "outputs": [],
   "source": [
    "# Constants\n",
    "from math import pi"
   ]
  },
  {
   "cell_type": "code",
   "execution_count": 3,
   "metadata": {},
   "outputs": [],
   "source": [
    "# Known transformation b/w frames\n",
    "translation_A2B = np.array([2.0, 0.0, 0.5])\n",
    "ypr_A2B = np.array([-pi/2, 0.0, -pi/2])"
   ]
  },
  {
   "cell_type": "code",
   "execution_count": 5,
   "metadata": {},
   "outputs": [],
   "source": [
    "from math import cos, sin\n",
    "\n",
    "def ypr2quat(yaw, pitch, roll):\n",
    "  cr = cos(roll * 0.5)\n",
    "  sr = sin(roll * 0.5)\n",
    "  cp = cos(pitch * 0.5)\n",
    "  sp = sin(pitch * 0.5)\n",
    "  cy = cos(yaw * 0.5)\n",
    "  sy = sin(yaw * 0.5)\n",
    "\n",
    "  qw = cr * cp * cy + sr * sp * sy\n",
    "  qx = sr * cp * cy - cr * sp * sy\n",
    "  qy = cr * sp * cy + sr * cp * sy\n",
    "  qz = cr * cp * sy - sr * sp * cy\n",
    "\n",
    "  return np.array([qw, qx, qy, qz])"
   ]
  },
  {
   "cell_type": "code",
   "execution_count": 6,
   "metadata": {},
   "outputs": [],
   "source": [
    "def quat2rotation(qw, qx, qy, qz):\n",
    "  r00 = 1 - 2*qy*qy - 2*qz*qz\n",
    "  r01 = 2*qx*qy - 2*qz*qw\n",
    "  r02 = 2*qx*qz + 2*qy*qw\n",
    "  r10 = 2*qx*qy + 2*qz*qw\n",
    "  r11 = 1 - 2*qx*qx - 2*qz*qz\n",
    "  r12 = 2*qy*qz - 2*qx*qw\n",
    "  r20 = 2*qx*qz - 2*qy*qw\n",
    "  r21 = 2*qy*qz + 2*qx*qw\n",
    "  r22 = 1 - 2*qx*qx - 2*qy*qy\n",
    "  return np.array([[r00, r01, r02], [r10, r11, r12], [r20, r21, r22]])"
   ]
  },
  {
   "cell_type": "code",
   "execution_count": 7,
   "metadata": {},
   "outputs": [
    {
     "name": "stdout",
     "output_type": "stream",
     "text": [
      "[[ 2.22044605e-16  2.22044605e-16  1.00000000e+00]\n",
      " [-1.00000000e+00  0.00000000e+00  2.22044605e-16]\n",
      " [ 0.00000000e+00 -1.00000000e+00  2.22044605e-16]]\n"
     ]
    }
   ],
   "source": [
    "rotation_A2B = quat2rotation(*ypr2quat(*ypr_A2B))\n",
    "print(rotation_A2B)"
   ]
  },
  {
   "cell_type": "code",
   "execution_count": 8,
   "metadata": {},
   "outputs": [
    {
     "name": "stdout",
     "output_type": "stream",
     "text": [
      "[[ 2.22044605e-16 -1.00000000e+00  4.93038066e-32]\n",
      " [ 2.22044605e-16  4.93038066e-32 -1.00000000e+00]\n",
      " [ 1.00000000e+00  2.22044605e-16  2.22044605e-16]]\n"
     ]
    }
   ],
   "source": [
    "rotation_B2A = np.linalg.inv(rotation_A2B)\n",
    "print(rotation_B2A)"
   ]
  },
  {
   "cell_type": "code",
   "execution_count": 9,
   "metadata": {},
   "outputs": [
    {
     "name": "stdout",
     "output_type": "stream",
     "text": [
      "[-2.  -0.  -0.5]\n"
     ]
    }
   ],
   "source": [
    "translation_B2A = -translation_A2B\n",
    "print(translation_B2A)"
   ]
  },
  {
   "cell_type": "code",
   "execution_count": 10,
   "metadata": {},
   "outputs": [
    {
     "name": "stdout",
     "output_type": "stream",
     "text": [
      "[[ 2.22044605e-16 -1.00000000e+00  4.93038066e-32 -2.00000000e+00]\n",
      " [ 2.22044605e-16  4.93038066e-32 -1.00000000e+00 -0.00000000e+00]\n",
      " [ 1.00000000e+00  2.22044605e-16  2.22044605e-16 -5.00000000e-01]]\n"
     ]
    }
   ],
   "source": [
    "rt_mat = np.hstack((rotation_B2A, translation_B2A.reshape(-1, 1)))\n",
    "print(rt_mat)"
   ]
  },
  {
   "cell_type": "code",
   "execution_count": 13,
   "metadata": {},
   "outputs": [
    {
     "name": "stdout",
     "output_type": "stream",
     "text": [
      "[[ 2.22044605e-16 -1.00000000e+00  4.93038066e-32 -2.00000000e+00]\n",
      " [ 2.22044605e-16  4.93038066e-32 -1.00000000e+00 -0.00000000e+00]\n",
      " [ 1.00000000e+00  2.22044605e-16  2.22044605e-16 -5.00000000e-01]\n",
      " [ 0.00000000e+00  0.00000000e+00  0.00000000e+00  1.00000000e+00]]\n"
     ]
    }
   ],
   "source": [
    "rt_mat = np.vstack((rt_mat, np.array([0.0, 0.0, 0.0, 1.0])))\n",
    "print(rt_mat)"
   ]
  },
  {
   "cell_type": "code",
   "execution_count": 18,
   "metadata": {},
   "outputs": [],
   "source": [
    "point_B = np.array([1.0, 1.0, 0.0])"
   ]
  },
  {
   "cell_type": "code",
   "execution_count": 19,
   "metadata": {},
   "outputs": [
    {
     "name": "stdout",
     "output_type": "stream",
     "text": [
      "[[1.]\n",
      " [1.]\n",
      " [0.]\n",
      " [1.]]\n"
     ]
    }
   ],
   "source": [
    "point_B = np.hstack((point_B, 1.0)).reshape(-1, 1)\n",
    "print(point_B)"
   ]
  },
  {
   "cell_type": "code",
   "execution_count": 21,
   "metadata": {},
   "outputs": [
    {
     "name": "stdout",
     "output_type": "stream",
     "text": [
      "[[-3.00000000e+00]\n",
      " [ 2.22044605e-16]\n",
      " [ 5.00000000e-01]\n",
      " [ 1.00000000e+00]]\n"
     ]
    }
   ],
   "source": [
    "point_A = np.dot(rt_mat, point_B)\n",
    "print(point_A)"
   ]
  }
 ],
 "metadata": {
  "kernelspec": {
   "display_name": "Python 3",
   "language": "python",
   "name": "python3"
  },
  "language_info": {
   "codemirror_mode": {
    "name": "ipython",
    "version": 3
   },
   "file_extension": ".py",
   "mimetype": "text/x-python",
   "name": "python",
   "nbconvert_exporter": "python",
   "pygments_lexer": "ipython3",
   "version": "3.10.12"
  }
 },
 "nbformat": 4,
 "nbformat_minor": 2
}
